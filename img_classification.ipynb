{
 "cells": [
  {
   "cell_type": "code",
   "execution_count": 1,
   "id": "df4e8567",
   "metadata": {
    "_cell_guid": "b1076dfc-b9ad-4769-8c92-a6c4dae69d19",
    "_uuid": "8f2839f25d086af736a60e9eeb907d3b93b6e0e5",
    "execution": {
     "iopub.execute_input": "2023-11-12T14:18:59.758816Z",
     "iopub.status.busy": "2023-11-12T14:18:59.758299Z",
     "iopub.status.idle": "2023-11-12T14:19:14.763989Z",
     "shell.execute_reply": "2023-11-12T14:19:14.762843Z"
    },
    "papermill": {
     "duration": 15.013142,
     "end_time": "2023-11-12T14:19:14.766753",
     "exception": false,
     "start_time": "2023-11-12T14:18:59.753611",
     "status": "completed"
    },
    "tags": []
   },
   "outputs": [],
   "source": [
    "\n",
    "import numpy as np # linear algebra\n",
    "import pandas as pd # data processing, CSV file I/O (e.g. pd.read_csv)\n",
    "import matplotlib.pyplot as plt\n",
    "import tensorflow as tf\n",
    "from tensorflow.keras import layers\n",
    "from tensorflow.keras import Model\n",
    "from tensorflow.keras.optimizers import RMSprop\n",
    "from tensorflow.keras.preprocessing.image import ImageDataGenerator\n",
    "from tensorflow.keras.utils import img_to_array, load_img\n",
    "import os\n",
    "from shutil import copyfile\n",
    "\n",
    "#for dirname, _, filenames in os.walk('/kaggle/input'):\n",
    "   #for filename in filenames:\n",
    "        #print(os.path.join(dirname, filename))\n",
    "\n",
    "# You can write up to 20GB to the current directory (/kaggle/working/) that gets preserved as output when you create a version using \"Save & Run All\" \n",
    "# You can also write temporary files to /kaggle/temp/, but they won't be saved outside of the current session"
   ]
  },
  {
   "cell_type": "code",
   "execution_count": 2,
   "id": "8d444271",
   "metadata": {
    "execution": {
     "iopub.execute_input": "2023-11-12T14:19:14.774285Z",
     "iopub.status.busy": "2023-11-12T14:19:14.773545Z",
     "iopub.status.idle": "2023-11-12T14:19:14.779404Z",
     "shell.execute_reply": "2023-11-12T14:19:14.778278Z"
    },
    "papermill": {
     "duration": 0.012224,
     "end_time": "2023-11-12T14:19:14.781935",
     "exception": false,
     "start_time": "2023-11-12T14:19:14.769711",
     "status": "completed"
    },
    "tags": []
   },
   "outputs": [],
   "source": [
    "source_training_dir = '/kaggle/input/intel-image-classification/seg_train/seg_train/'\n",
    "source_test_dir = '/kaggle/input/intel-image-classification/seg_train/seg_test/seg_test/'\n",
    "\n",
    "pred_dir = '/kaggle/input/intel-image-classification/seg_train/seg_pred/'\n",
    "\n",
    "new_path = '/kaggle/temp/seg_train/'\n",
    "\n"
   ]
  },
  {
   "cell_type": "code",
   "execution_count": 3,
   "id": "f718ce62",
   "metadata": {
    "execution": {
     "iopub.execute_input": "2023-11-12T14:19:14.788836Z",
     "iopub.status.busy": "2023-11-12T14:19:14.788421Z",
     "iopub.status.idle": "2023-11-12T14:20:56.647801Z",
     "shell.execute_reply": "2023-11-12T14:20:56.646588Z"
    },
    "papermill": {
     "duration": 101.866253,
     "end_time": "2023-11-12T14:20:56.650786",
     "exception": false,
     "start_time": "2023-11-12T14:19:14.784533",
     "status": "completed"
    },
    "tags": []
   },
   "outputs": [],
   "source": [
    "\n",
    "\n",
    "# Replace '/path/to/parent_directory' with the actual path to your parent directory\n",
    "\n",
    "\n",
    "def count_files_in_folder(source_dir, new_path):\n",
    "    \n",
    "    #remove files with zero lenght and save in the new dirrectory \n",
    "    for dirr in os.listdir(source_dir):\n",
    "        new_subdir = os.path.join(new_path, dirr)\n",
    "        os.makedirs(new_subdir)\n",
    "        for img in os.listdir(os.path.join(source_dir, dirr)):\n",
    "            if os.path.getsize(os.path.join(source_dir, dirr, img)) !=0:\n",
    "                copyfile(os.path.join(source_dir, dirr, img), os.path.join(new_subdir,img))\n",
    "        \n",
    "        \n",
    "    #total_files = 0\n",
    "    # Walk through all directories and subdirectories\n",
    "    #for root, dirs, files in os.walk(folder_path):\n",
    "        #total_files += len(files)\n",
    "        #print(root)\n",
    "        #print('something 1')\n",
    "       # print(dirs)\n",
    "        #print('something 2')\n",
    "        #here I have to creat the tep folders so that \n",
    "        #for dirr in dirs:\n",
    "            #print(dirr)\n",
    "        #for file in files:\n",
    "            #print(file)\n",
    "            #print('something 3')\n",
    "        \n",
    "\n",
    "\n",
    "    #directories = [d for d in os.listdir(parent_directory) if os.path.isdir(os.path.join(parent_directory, d))]\n",
    "    #return directories\n",
    "\n",
    "    #return total_files\n",
    "\n",
    "#def filter_zero\n",
    "# take out images with zero lenght \n",
    "count_files_in_folder(source_training_dir,new_path)\n",
    "#total_training_files = count_files_in_folder(training_dir)\n",
    "#print(total_training_files)"
   ]
  },
  {
   "cell_type": "code",
   "execution_count": 4,
   "id": "a3255200",
   "metadata": {
    "execution": {
     "iopub.execute_input": "2023-11-12T14:20:56.658192Z",
     "iopub.status.busy": "2023-11-12T14:20:56.657030Z",
     "iopub.status.idle": "2023-11-12T14:20:56.662443Z",
     "shell.execute_reply": "2023-11-12T14:20:56.661642Z"
    },
    "papermill": {
     "duration": 0.011163,
     "end_time": "2023-11-12T14:20:56.664663",
     "exception": false,
     "start_time": "2023-11-12T14:20:56.653500",
     "status": "completed"
    },
    "tags": []
   },
   "outputs": [],
   "source": [
    "train_datagen = ImageDataGenerator()\n",
    "val_datagen = ImageDataGenerator()"
   ]
  }
 ],
 "metadata": {
  "kernelspec": {
   "display_name": "Python 3",
   "language": "python",
   "name": "python3"
  },
  "language_info": {
   "codemirror_mode": {
    "name": "ipython",
    "version": 3
   },
   "file_extension": ".py",
   "mimetype": "text/x-python",
   "name": "python",
   "nbconvert_exporter": "python",
   "pygments_lexer": "ipython3",
   "version": "3.10.12"
  },
  "papermill": {
   "default_parameters": {},
   "duration": 121.866668,
   "end_time": "2023-11-12T14:20:58.092186",
   "environment_variables": {},
   "exception": null,
   "input_path": "__notebook__.ipynb",
   "output_path": "__notebook__.ipynb",
   "parameters": {},
   "start_time": "2023-11-12T14:18:56.225518",
   "version": "2.4.0"
  }
 },
 "nbformat": 4,
 "nbformat_minor": 5
}
