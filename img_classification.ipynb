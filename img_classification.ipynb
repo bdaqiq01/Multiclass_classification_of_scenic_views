{
 "cells": [
  {
   "cell_type": "code",
   "execution_count": 1,
   "id": "7a4759b2",
   "metadata": {
    "_cell_guid": "b1076dfc-b9ad-4769-8c92-a6c4dae69d19",
    "_uuid": "8f2839f25d086af736a60e9eeb907d3b93b6e0e5",
    "execution": {
     "iopub.execute_input": "2023-11-12T15:31:55.827482Z",
     "iopub.status.busy": "2023-11-12T15:31:55.827040Z",
     "iopub.status.idle": "2023-11-12T15:32:11.500856Z",
     "shell.execute_reply": "2023-11-12T15:32:11.499550Z"
    },
    "papermill": {
     "duration": 15.681206,
     "end_time": "2023-11-12T15:32:11.503721",
     "exception": false,
     "start_time": "2023-11-12T15:31:55.822515",
     "status": "completed"
    },
    "tags": []
   },
   "outputs": [],
   "source": [
    "\n",
    "import numpy as np # linear algebra\n",
    "import pandas as pd # data processing, CSV file I/O (e.g. pd.read_csv)\n",
    "import matplotlib.pyplot as plt\n",
    "import tensorflow as tf\n",
    "from tensorflow.keras import layers\n",
    "from tensorflow.keras import Model\n",
    "from tensorflow.keras.optimizers import RMSprop\n",
    "from tensorflow.keras.preprocessing.image import ImageDataGenerator\n",
    "from tensorflow.keras.utils import img_to_array, load_img\n",
    "import os\n",
    "from shutil import copyfile\n",
    "\n",
    "#for dirname, _, filenames in os.walk('/kaggle/input'):\n",
    "   #for filename in filenames:\n",
    "        #print(os.path.join(dirname, filename))\n",
    "\n",
    "# You can write up to 20GB to the current directory (/kaggle/working/) that gets preserved as output when you create a version using \"Save & Run All\" \n",
    "# You can also write temporary files to /kaggle/temp/, but they won't be saved outside of the current session"
   ]
  },
  {
   "cell_type": "code",
   "execution_count": 2,
   "id": "9d76c91e",
   "metadata": {
    "execution": {
     "iopub.execute_input": "2023-11-12T15:32:11.512288Z",
     "iopub.status.busy": "2023-11-12T15:32:11.510805Z",
     "iopub.status.idle": "2023-11-12T15:32:11.516327Z",
     "shell.execute_reply": "2023-11-12T15:32:11.515440Z"
    },
    "papermill": {
     "duration": 0.011889,
     "end_time": "2023-11-12T15:32:11.518578",
     "exception": false,
     "start_time": "2023-11-12T15:32:11.506689",
     "status": "completed"
    },
    "tags": []
   },
   "outputs": [],
   "source": [
    "source_training_dir = '/kaggle/input/intel-image-classification/seg_train/seg_train/'\n",
    "source_test_dir = '/kaggle/input/intel-image-classification/seg_test/seg_test/'\n",
    "\n",
    "pred_dir = '/kaggle/input/intel-image-classification/seg_train/seg_pred/'\n",
    "\n",
    "train_path = '/kaggle/temp/seg_train/'\n",
    "test_path = '/kaggle/temp/seg_test/'\n",
    "\n",
    "\n"
   ]
  },
  {
   "cell_type": "code",
   "execution_count": 3,
   "id": "68b668f3",
   "metadata": {
    "execution": {
     "iopub.execute_input": "2023-11-12T15:32:11.527650Z",
     "iopub.status.busy": "2023-11-12T15:32:11.526631Z",
     "iopub.status.idle": "2023-11-12T15:32:11.536242Z",
     "shell.execute_reply": "2023-11-12T15:32:11.534940Z"
    },
    "papermill": {
     "duration": 0.017468,
     "end_time": "2023-11-12T15:32:11.539346",
     "exception": false,
     "start_time": "2023-11-12T15:32:11.521878",
     "status": "completed"
    },
    "tags": []
   },
   "outputs": [],
   "source": [
    "\n",
    "def count_files_in_folder(source_dir, new_path):\n",
    "    \n",
    "    #remove files with zero lenght and save in the new dirrectory \n",
    "    zero_length_files = []\n",
    "    for dirr in os.listdir(source_dir):\n",
    "        new_subdir = os.path.join(new_path, dirr)\n",
    "        os.makedirs(new_subdir)\n",
    "        for img in os.listdir(os.path.join(source_dir, dirr)):\n",
    "            if os.path.getsize(os.path.join(source_dir, dirr, img)) !=0:\n",
    "                copyfile(os.path.join(source_dir, dirr, img), os.path.join(new_subdir,img))\n",
    "            else:\n",
    "                zero_length_files.append(img)\n",
    "                print(f\"{img} is zero length, so ignoring\")\n",
    "        \n",
    "    total_files = 0\n",
    "    #Walk through all directories and subdirectories\n",
    "    for root, dirs, files in os.walk(new_path):\n",
    "        total_files += len(files)\n",
    "    #directories = [d for d in os.listdir(parent_directory) if os.path.isdir(os.path.join(parent_directory, d))]\n",
    "    #return directories\n",
    "    if len(zero_length_files) == 0:\n",
    "        print(\"No zero length files found.\")\n",
    "\n",
    "    return (total_files)"
   ]
  },
  {
   "cell_type": "code",
   "execution_count": 4,
   "id": "5b5a063b",
   "metadata": {
    "execution": {
     "iopub.execute_input": "2023-11-12T15:32:11.546289Z",
     "iopub.status.busy": "2023-11-12T15:32:11.545855Z",
     "iopub.status.idle": "2023-11-12T15:33:50.221666Z",
     "shell.execute_reply": "2023-11-12T15:33:50.220189Z"
    },
    "papermill": {
     "duration": 98.682422,
     "end_time": "2023-11-12T15:33:50.224322",
     "exception": false,
     "start_time": "2023-11-12T15:32:11.541900",
     "status": "completed"
    },
    "tags": []
   },
   "outputs": [
    {
     "name": "stdout",
     "output_type": "stream",
     "text": [
      "No zero length files found.\n",
      "No zero length files found.\n",
      "There are 14034 files in the training set\n",
      "there are 3000 files in the testing set\n"
     ]
    }
   ],
   "source": [
    "training_files = count_files_in_folder(source_training_dir,train_path)\n",
    "test_files = count_files_in_folder(source_test_dir,test_path)\n",
    "\n",
    "print(f\"There are {training_files} files in the training set\")\n",
    "print(f\"there are {test_files} files in the testing set\")"
   ]
  },
  {
   "cell_type": "code",
   "execution_count": null,
   "id": "46e478ac",
   "metadata": {
    "papermill": {
     "duration": 0.002313,
     "end_time": "2023-11-12T15:33:50.229354",
     "exception": false,
     "start_time": "2023-11-12T15:33:50.227041",
     "status": "completed"
    },
    "tags": []
   },
   "outputs": [],
   "source": []
  },
  {
   "cell_type": "code",
   "execution_count": 5,
   "id": "bbe77d47",
   "metadata": {
    "execution": {
     "iopub.execute_input": "2023-11-12T15:33:50.236147Z",
     "iopub.status.busy": "2023-11-12T15:33:50.235721Z",
     "iopub.status.idle": "2023-11-12T15:33:50.243151Z",
     "shell.execute_reply": "2023-11-12T15:33:50.242181Z"
    },
    "papermill": {
     "duration": 0.01384,
     "end_time": "2023-11-12T15:33:50.245747",
     "exception": false,
     "start_time": "2023-11-12T15:33:50.231907",
     "status": "completed"
    },
    "tags": []
   },
   "outputs": [],
   "source": [
    "train_datagen = ImageDataGenerator()\n",
    "val_datagen = ImageDataGenerator()"
   ]
  }
 ],
 "metadata": {
  "kernelspec": {
   "display_name": "Python 3",
   "language": "python",
   "name": "python3"
  },
  "language_info": {
   "codemirror_mode": {
    "name": "ipython",
    "version": 3
   },
   "file_extension": ".py",
   "mimetype": "text/x-python",
   "name": "python",
   "nbconvert_exporter": "python",
   "pygments_lexer": "ipython3",
   "version": "3.10.12"
  },
  "papermill": {
   "default_parameters": {},
   "duration": 119.169701,
   "end_time": "2023-11-12T15:33:51.672440",
   "environment_variables": {},
   "exception": null,
   "input_path": "__notebook__.ipynb",
   "output_path": "__notebook__.ipynb",
   "parameters": {},
   "start_time": "2023-11-12T15:31:52.502739",
   "version": "2.4.0"
  }
 },
 "nbformat": 4,
 "nbformat_minor": 5
}
